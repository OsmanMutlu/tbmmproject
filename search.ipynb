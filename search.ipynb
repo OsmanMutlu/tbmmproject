{
 "cells": [
  {
   "cell_type": "code",
   "execution_count": 1,
   "metadata": {},
   "outputs": [],
   "source": [
    "# -*- coding: utf-8 -*-\n",
    "import nltk\n",
    "import json\n",
    "import pandas as pd\n",
    "import codecs"
   ]
  },
  {
   "cell_type": "markdown",
   "metadata": {},
   "source": [
    "#### Pozitif ve negatif kelimeler pre-trained vektörler kullanılarak bulunulabilir."
   ]
  },
  {
   "cell_type": "code",
   "execution_count": 2,
   "metadata": {},
   "outputs": [],
   "source": [
    "keyword = 'yardım'\n",
    "interested_words = ['sosyal','vakfı','vakıf','yoksul','muhtaç']\n",
    "negative_words = ['hükümet','afganistan','bosna','yardımcı']\n",
    "data = []\n",
    "#stopwords = []"
   ]
  },
  {
   "cell_type": "code",
   "execution_count": 3,
   "metadata": {},
   "outputs": [
    {
     "data": {
      "text/plain": [
       "'with codecs.open(\\'stopwords\\', encoding=\"utf-8\") as f:\\n\\tfor line in f:\\n\\t\\tstopwords.append(line)\\n\\nstopwords = [word.replace(\"\\r\\n\",\"\") for word in stopwords]'"
      ]
     },
     "execution_count": 3,
     "metadata": {},
     "output_type": "execute_result"
    }
   ],
   "source": [
    "with codecs.open('items.jl', encoding=\"utf-8\") as f:\n",
    "\tfor line in f:\n",
    "\t\tdata.append(json.loads(line))\n",
    "\n",
    "'''with codecs.open('stopwords', encoding=\"utf-8\") as f:\n",
    "\tfor line in f:\n",
    "\t\tstopwords.append(line)\n",
    "\n",
    "stopwords = [word.replace(\"\\r\\n\",\"\") for word in stopwords]'''"
   ]
  },
  {
   "cell_type": "markdown",
   "metadata": {},
   "source": [
    "#### word_tokenize() fonksiyonu nltk'nin 'punkt' paketini kullanıyor.\n",
    "#### Genelleştirmek için stopword'leri eliyebiliriz. Fakat bu keyword için hiçbir değişiklik olmadığı için comment'e aldım."
   ]
  },
  {
   "cell_type": "code",
   "execution_count": 4,
   "metadata": {},
   "outputs": [
    {
     "data": {
      "text/plain": [
       "'for tokenlist in tokenized_sentences:\\n\\tfor token in tokenlist:\\n\\t\\tif any(token==word for word in stopwords):\\n\\t\\t\\tdel token'"
      ]
     },
     "execution_count": 4,
     "metadata": {},
     "output_type": "execute_result"
    }
   ],
   "source": [
    "tokenized_sentences = [nltk.word_tokenize(x['name']) for x in data]\n",
    "\n",
    "'''for tokenlist in tokenized_sentences:\n",
    "\tfor token in tokenlist:\n",
    "\t\tif any(token==word for word in stopwords):\n",
    "\t\t\tdel token'''"
   ]
  },
  {
   "cell_type": "markdown",
   "metadata": {},
   "source": [
    "#### Eğer pozitif kelimeden sonra asıl keyword'ümüz geliyosa weight'i fazla oluyor\n",
    "#### Genelleştirmek için; pozitif kelimelerin weight'i keyword'e yakınlığı üzerinden hesaplanabilir."
   ]
  },
  {
   "cell_type": "code",
   "execution_count": 5,
   "metadata": {},
   "outputs": [],
   "source": [
    "for i, tokenlist in enumerate(tokenized_sentences):\n",
    "\tweight = 0\n",
    "\tfor j, text in enumerate(tokenlist):\n",
    "\t\ttext = text.lower()\n",
    "\t\tif any(word in text for word in negative_words):\n",
    "\t\t\tcontinue\n",
    "\t\telif text.find(keyword) != -1:\n",
    "\t\t\tweight += 10\n",
    "\t\telif any(word in text for word in interested_words):\n",
    "\t\t\ttokenlist[j+1] = tokenlist[j+1].lower()\n",
    "\t\t\tif j != len(tokenlist)-1 and tokenlist[j+1].find(keyword) != -1:\n",
    "\t\t\t\tweight += 10\n",
    "\t\t\telse:\n",
    "\t\t\t\tweight += 2\n",
    "\tdata[i]['weight'] = weight"
   ]
  },
  {
   "cell_type": "markdown",
   "metadata": {},
   "source": [
    "#### Veriyi baştan dataframe'e atayarak weight hesaplamayı denedim. Daha fazla zaman alıyor.\n",
    "#### Ama sort işlemi gayet hızlı."
   ]
  },
  {
   "cell_type": "code",
   "execution_count": 6,
   "metadata": {},
   "outputs": [],
   "source": [
    "sorted_data = pd.DataFrame(data).sort_values(by='weight', ascending=False)\n",
    "with codecs.open('results.jl', 'w', encoding='utf-8') as file:\n",
    "\tsorted_data.to_json(file, orient='records', lines=True, force_ascii=False)"
   ]
  },
  {
   "cell_type": "code",
   "execution_count": 7,
   "metadata": {},
   "outputs": [
    {
     "data": {
      "text/html": [
       "<div>\n",
       "<style scoped>\n",
       "    .dataframe tbody tr th:only-of-type {\n",
       "        vertical-align: middle;\n",
       "    }\n",
       "\n",
       "    .dataframe tbody tr th {\n",
       "        vertical-align: top;\n",
       "    }\n",
       "\n",
       "    .dataframe thead th {\n",
       "        text-align: right;\n",
       "    }\n",
       "</style>\n",
       "<table border=\"1\" class=\"dataframe\">\n",
       "  <thead>\n",
       "    <tr style=\"text-align: right;\">\n",
       "      <th></th>\n",
       "      <th>links</th>\n",
       "      <th>name</th>\n",
       "      <th>weight</th>\n",
       "    </tr>\n",
       "  </thead>\n",
       "  <tbody>\n",
       "    <tr>\n",
       "      <th>112</th>\n",
       "      <td>[{'link': 'https://www.tbmm.gov.tr/tutanaklar/...</td>\n",
       "      <td>Bursa-Orhaneli köylerine Sosyal Yardımlaşma ve...</td>\n",
       "      <td>90</td>\n",
       "    </tr>\n",
       "    <tr>\n",
       "      <th>86</th>\n",
       "      <td>[{'link': 'https://www.tbmm.gov.tr/tutanaklar/...</td>\n",
       "      <td>Ardahan Milletvekili Ensar Öğüt’ün, bazı sınır...</td>\n",
       "      <td>40</td>\n",
       "    </tr>\n",
       "    <tr>\n",
       "      <th>87</th>\n",
       "      <td>[{'link': 'https://www.tbmm.gov.tr/tutanaklar/...</td>\n",
       "      <td>Belediyelerin sosyal yardımlarına (6/191), Bel...</td>\n",
       "      <td>40</td>\n",
       "    </tr>\n",
       "    <tr>\n",
       "      <th>0</th>\n",
       "      <td>[{'link': 'https://www.tbmm.gov.tr/tutanaklar/...</td>\n",
       "      <td>Adıyaman'da Sosyal Yardımlaşma ve Dayanışma Va...</td>\n",
       "      <td>34</td>\n",
       "    </tr>\n",
       "    <tr>\n",
       "      <th>150</th>\n",
       "      <td>[{'link': 'https://www.tbmm.gov.tr/tutanaklar/...</td>\n",
       "      <td>Erzincan İli Sosyal Yardımlaşma ve Dayanışma V...</td>\n",
       "      <td>32</td>\n",
       "    </tr>\n",
       "    <tr>\n",
       "      <th>1</th>\n",
       "      <td>[{'link': 'https://www.tbmm.gov.tr/tutanaklar/...</td>\n",
       "      <td>Sosyal Yardımlaşma ve Dayanışma Vakıfları tara...</td>\n",
       "      <td>32</td>\n",
       "    </tr>\n",
       "    <tr>\n",
       "      <th>161</th>\n",
       "      <td>[{'link': 'https://www.tbmm.gov.tr/tutanaklar/...</td>\n",
       "      <td>Sosyal Yardımlaşma ve Dayanışmayı Teşvik Fonun...</td>\n",
       "      <td>30</td>\n",
       "    </tr>\n",
       "    <tr>\n",
       "      <th>113</th>\n",
       "      <td>[{'link': 'https://www.tbmm.gov.tr/tutanaklar/...</td>\n",
       "      <td>Sosyal Yardımlaşma ve Dayanışmayı Teşvik Fonun...</td>\n",
       "      <td>30</td>\n",
       "    </tr>\n",
       "    <tr>\n",
       "      <th>27</th>\n",
       "      <td>[{'link': 'https://www.tbmm.gov.tr/tutanaklar/...</td>\n",
       "      <td>Sosyal yardımlaşma ve dayanışma vakıflarına il...</td>\n",
       "      <td>22</td>\n",
       "    </tr>\n",
       "    <tr>\n",
       "      <th>41</th>\n",
       "      <td>[{'link': 'https://www.tbmm.gov.tr/tutanaklar/...</td>\n",
       "      <td>Sosyal yardım yapan vakıf ve derneklere uygula...</td>\n",
       "      <td>22</td>\n",
       "    </tr>\n",
       "  </tbody>\n",
       "</table>\n",
       "</div>"
      ],
      "text/plain": [
       "                                                 links  \\\n",
       "112  [{'link': 'https://www.tbmm.gov.tr/tutanaklar/...   \n",
       "86   [{'link': 'https://www.tbmm.gov.tr/tutanaklar/...   \n",
       "87   [{'link': 'https://www.tbmm.gov.tr/tutanaklar/...   \n",
       "0    [{'link': 'https://www.tbmm.gov.tr/tutanaklar/...   \n",
       "150  [{'link': 'https://www.tbmm.gov.tr/tutanaklar/...   \n",
       "1    [{'link': 'https://www.tbmm.gov.tr/tutanaklar/...   \n",
       "161  [{'link': 'https://www.tbmm.gov.tr/tutanaklar/...   \n",
       "113  [{'link': 'https://www.tbmm.gov.tr/tutanaklar/...   \n",
       "27   [{'link': 'https://www.tbmm.gov.tr/tutanaklar/...   \n",
       "41   [{'link': 'https://www.tbmm.gov.tr/tutanaklar/...   \n",
       "\n",
       "                                                  name  weight  \n",
       "112  Bursa-Orhaneli köylerine Sosyal Yardımlaşma ve...      90  \n",
       "86   Ardahan Milletvekili Ensar Öğüt’ün, bazı sınır...      40  \n",
       "87   Belediyelerin sosyal yardımlarına (6/191), Bel...      40  \n",
       "0    Adıyaman'da Sosyal Yardımlaşma ve Dayanışma Va...      34  \n",
       "150  Erzincan İli Sosyal Yardımlaşma ve Dayanışma V...      32  \n",
       "1    Sosyal Yardımlaşma ve Dayanışma Vakıfları tara...      32  \n",
       "161  Sosyal Yardımlaşma ve Dayanışmayı Teşvik Fonun...      30  \n",
       "113  Sosyal Yardımlaşma ve Dayanışmayı Teşvik Fonun...      30  \n",
       "27   Sosyal yardımlaşma ve dayanışma vakıflarına il...      22  \n",
       "41   Sosyal yardım yapan vakıf ve derneklere uygula...      22  "
      ]
     },
     "execution_count": 7,
     "metadata": {},
     "output_type": "execute_result"
    }
   ],
   "source": [
    "sorted_data.head(10)"
   ]
  }
 ],
 "metadata": {
  "kernelspec": {
   "display_name": "Python 3",
   "language": "python",
   "name": "python3"
  },
  "language_info": {
   "codemirror_mode": {
    "name": "ipython",
    "version": 3
   },
   "file_extension": ".py",
   "mimetype": "text/x-python",
   "name": "python",
   "nbconvert_exporter": "python",
   "pygments_lexer": "ipython3",
   "version": "3.6.3"
  }
 },
 "nbformat": 4,
 "nbformat_minor": 2
}
