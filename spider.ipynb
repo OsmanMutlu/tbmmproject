{
 "cells": [
  {
   "cell_type": "code",
   "execution_count": null,
   "metadata": {},
   "outputs": [],
   "source": [
    "# -*- coding: utf-8 -*-\n",
    "import scrapy\n",
    "from tbmm.items import TbmmItem"
   ]
  },
  {
   "cell_type": "markdown",
   "metadata": {},
   "source": [
    "#### Aşağıda yield ettiğimiz item'ımız bu pipeline'lardan geçecek. Sırasını yanındaki sayı belirliyor.\n",
    "#### 300<800 bu yüzden önce TbmmPipeline'dan geçecek."
   ]
  },
  {
   "cell_type": "code",
   "execution_count": null,
   "metadata": {},
   "outputs": [],
   "source": [
    "class spSpider(scrapy.Spider):\n",
    "\tname = \"sp\"\n",
    "\tcustom_settings = {\n",
    "\t\t'ITEM_PIPELINES': {\n",
    "\t\t\t'tbmm.pipelines.TbmmPipeline': 300,\n",
    "\t\t\t'tbmm.pipelines.JsonWriterPipeline': 800,\n",
    "\t\t}\n",
    "\t}"
   ]
  },
  {
   "cell_type": "markdown",
   "metadata": {},
   "source": [
    "#### Scrapy ilk buraya bakıyor."
   ]
  },
  {
   "cell_type": "code",
   "execution_count": null,
   "metadata": {},
   "outputs": [],
   "source": [
    "\tdef start_requests(self):\n",
    "\n",
    "\t\turls = [\n",
    "\t\t\t'https://www.tbmm.gov.tr/develop/owa/td_v2.tutanak_hazirla?v_meclis=1&v_donem=20&v_yasama_yili=&v_cilt=&v_birlesim=&v_sayfa=&v_anabaslik=&v_altbaslik=&v_mv=&v_sb=&v_ozet=&v_kelime=&v_bastarih=&v_bittarih=',\n",
    "\t\t\t'https://www.tbmm.gov.tr/develop/owa/td_v2.tutanak_hazirla?v_meclis=1&v_donem=21&v_yasama_yili=&v_cilt=&v_birlesim=&v_sayfa=&v_anabaslik=&v_altbaslik=&v_mv=&v_sb=&v_ozet=&v_kelime=&v_bastarih=&v_bittarih=',\n",
    "\t\t\t'https://www.tbmm.gov.tr/develop/owa/td_v2.tutanak_hazirla?v_meclis=1&v_donem=22&v_yasama_yili=&v_cilt=&v_birlesim=&v_sayfa=&v_anabaslik=&v_altbaslik=&v_mv=&v_sb=&v_ozet=&v_kelime=&v_bastarih=&v_bittarih=',\n",
    "\t\t\t'https://www.tbmm.gov.tr/develop/owa/td_v2.tutanak_hazirla?v_meclis=1&v_donem=23&v_yasama_yili=&v_cilt=&v_birlesim=&v_sayfa=&v_anabaslik=&v_altbaslik=&v_mv=&v_sb=&v_ozet=&v_kelime=&v_bastarih=&v_bittarih=',\n",
    "\t\t\t'https://www.tbmm.gov.tr/develop/owa/td_v2.tutanak_hazirla?v_meclis=1&v_donem=24&v_yasama_yili=&v_cilt=&v_birlesim=&v_sayfa=&v_anabaslik=&v_altbaslik=&v_mv=&v_sb=&v_ozet=&v_kelime=&v_bastarih=&v_bittarih=',\n",
    "\t\t\t'https://www.tbmm.gov.tr/develop/owa/td_v2.tutanak_hazirla?v_meclis=1&v_donem=25&v_yasama_yili=&v_cilt=&v_birlesim=&v_sayfa=&v_anabaslik=&v_altbaslik=&v_mv=&v_sb=&v_ozet=&v_kelime=&v_bastarih=&v_bittarih=',\n",
    "\t\t\t'https://www.tbmm.gov.tr/develop/owa/td_v2.tutanak_hazirla?v_meclis=1&v_donem=26&v_yasama_yili=&v_cilt=&v_birlesim=&v_sayfa=&v_anabaslik=&v_altbaslik=&v_mv=&v_sb=&v_ozet=&v_kelime=&v_bastarih=&v_bittarih=',\n",
    "\t\t]\n",
    "\n",
    "\t\tfor url in urls:\n",
    "\t\t\tyield scrapy.Request(url=url, callback=self.parse)\n"
   ]
  },
  {
   "cell_type": "code",
   "execution_count": null,
   "metadata": {},
   "outputs": [],
   "source": [
    "\tdef parse(self, response):\n",
    "\t\ttext1 = response.xpath('//table[last()]//tr[@onmouseover]')\n",
    "\t\tlocations = []\n",
    "\t\tpages = []\n",
    "\t\tlocation1 = {}"
   ]
  },
  {
   "cell_type": "markdown",
   "metadata": {},
   "source": [
    "#### Bu kısımda regex kullanılabilir"
   ]
  },
  {
   "cell_type": "code",
   "execution_count": null,
   "metadata": {},
   "outputs": [],
   "source": [
    "\t\tfor tr in text1:\n",
    "\t\t\t\n",
    "\t\t\titem = TbmmItem()\n",
    "\t\t\tname = tr.xpath('td[3]/text()').extract()\n",
    "\t\t\tname = [x for x in name if not x==\"\\n\"]\n",
    "\t\t\tname = name[0]\n",
    "\t\t\tname = name.split('\\n: ')\n",
    "\t\t\tname = \"\".join(name)\n",
    "\t\t\tname = name.split('\\n')\n",
    "\t\t\tname = \"\".join(name)\n",
    "\t\t\titem['name'] = name\n",
    "\t\t\t\n",
    "\t\t\ttext2 = tr.xpath('td[last()]/table//tr')"
   ]
  },
  {
   "cell_type": "markdown",
   "metadata": {},
   "source": [
    "#### Bir tr'nin içinde birden fazla td olabiliyor. Bir td'nin içinde birden fazla sayfa olabiliyor."
   ]
  },
  {
   "cell_type": "code",
   "execution_count": null,
   "metadata": {},
   "outputs": [],
   "source": [
    "\t\t\tfor x in text2:\n",
    "\t\t\t\n",
    "\t\t\t\tlocation1['cilt'] = x.xpath('td[1]/a/b/text()').extract_first()\n",
    "\t\t\t\tlocation1['birlesme'] = x.xpath('td[2]/a/b/text()').extract_first()\n",
    "\t\t\t\tpages = x.xpath('td[last()]/b/a/text()').extract()\n",
    "\t\t\t\tpages = [x.replace(\" \",\"\") for x in pages]\n",
    "\t\t\t\tlocation1['sayfa'] = pages\n",
    "\t\t\t\tlocations.append(location1)\n",
    "\t\t\t\tlocation1 = {}"
   ]
  },
  {
   "cell_type": "code",
   "execution_count": null,
   "metadata": {},
   "outputs": [],
   "source": [
    "\t\t\titem['locationList'] = locations\n",
    "\t\t\t\n",
    "\t\t\tyield item\n",
    "\t\t\tlocations = []"
   ]
  },
  {
   "cell_type": "markdown",
   "metadata": {},
   "source": [
    "#### Bir sonraki sayfaya git."
   ]
  },
  {
   "cell_type": "code",
   "execution_count": null,
   "metadata": {},
   "outputs": [],
   "source": [
    "\t\turl = response.xpath('//table[last()]//tr[last()]//i[last()-1]/b/a/@href').extract_first()\n",
    "\t\tyield scrapy.Request(url, callback=self.parse)"
   ]
  }
 ],
 "metadata": {
  "kernelspec": {
   "display_name": "Python 3",
   "language": "python",
   "name": "python3"
  },
  "language_info": {
   "codemirror_mode": {
    "name": "ipython",
    "version": 3
   },
   "file_extension": ".py",
   "mimetype": "text/x-python",
   "name": "python",
   "nbconvert_exporter": "python",
   "pygments_lexer": "ipython3",
   "version": "3.6.3"
  }
 },
 "nbformat": 4,
 "nbformat_minor": 2
}
